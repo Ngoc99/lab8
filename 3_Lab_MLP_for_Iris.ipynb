{
  "nbformat": 4,
  "nbformat_minor": 0,
  "metadata": {
    "kernelspec": {
      "display_name": "Python 3",
      "language": "python",
      "name": "python3"
    },
    "language_info": {
      "codemirror_mode": {
        "name": "ipython",
        "version": 3
      },
      "file_extension": ".py",
      "mimetype": "text/x-python",
      "name": "python",
      "nbconvert_exporter": "python",
      "pygments_lexer": "ipython3",
      "version": "3.6.6"
    },
    "colab": {
      "name": "3-Lab-MLP for Iris.ipynb",
      "provenance": [],
      "include_colab_link": true
    }
  },
  "cells": [
    {
      "cell_type": "markdown",
      "metadata": {
        "id": "view-in-github",
        "colab_type": "text"
      },
      "source": [
        "<a href=\"https://colab.research.google.com/github/Ngoc99/lab8/blob/master/3_Lab_MLP_for_Iris.ipynb\" target=\"_parent\"><img src=\"https://colab.research.google.com/assets/colab-badge.svg\" alt=\"Open In Colab\"/></a>"
      ]
    },
    {
      "cell_type": "markdown",
      "metadata": {
        "colab_type": "text",
        "id": "gvKshvFzQorr"
      },
      "source": [
        "# Multilayer Perceptron for Iris dataset"
      ]
    },
    {
      "cell_type": "markdown",
      "metadata": {
        "id": "XSBeuPQuy6zw",
        "colab_type": "text"
      },
      "source": [
        "- Nguyễn Hữu Vũ \n",
        "- Nhóm nghiên cứu về AI đại học Bách Khoa Tp. Hồ Chí Minh"
      ]
    },
    {
      "cell_type": "code",
      "metadata": {
        "id": "jTboeMxsy6zx",
        "colab_type": "code",
        "colab": {}
      },
      "source": [
        "\n",
        "from sklearn import datasets\n",
        "from sklearn.preprocessing import StandardScaler\n",
        "from sklearn.linear_model import Perceptron\n",
        "from sklearn.model_selection import train_test_split\n",
        "from sklearn.metrics import accuracy_score\n",
        "import numpy as np"
      ],
      "execution_count": 16,
      "outputs": []
    },
    {
      "cell_type": "code",
      "metadata": {
        "id": "FzYm5f2ey6z7",
        "colab_type": "code",
        "colab": {}
      },
      "source": [
        "# Load the iris dataset\n",
        "iris = datasets.load_iris()\n",
        "\n",
        "# Create our X and y data\n",
        "X = iris.data\n",
        "y = iris.target"
      ],
      "execution_count": 17,
      "outputs": []
    },
    {
      "cell_type": "markdown",
      "metadata": {
        "id": "KjVEFmCTy60A",
        "colab_type": "text"
      },
      "source": [
        "## 1) Khám phá dữ liệu"
      ]
    },
    {
      "cell_type": "code",
      "metadata": {
        "id": "It-R-WVCy60C",
        "colab_type": "code",
        "colab": {
          "base_uri": "https://localhost:8080/",
          "height": 34
        },
        "outputId": "b6f6f878-4428-41e4-803f-717323d63960"
      },
      "source": [
        "X.shape"
      ],
      "execution_count": 18,
      "outputs": [
        {
          "output_type": "execute_result",
          "data": {
            "text/plain": [
              "(150, 4)"
            ]
          },
          "metadata": {
            "tags": []
          },
          "execution_count": 18
        }
      ]
    },
    {
      "cell_type": "code",
      "metadata": {
        "id": "cLmPQVscy60I",
        "colab_type": "code",
        "colab": {
          "base_uri": "https://localhost:8080/",
          "height": 34
        },
        "outputId": "717187b0-2ee8-47ac-e6e5-80237d841c19"
      },
      "source": [
        "y.shape"
      ],
      "execution_count": 19,
      "outputs": [
        {
          "output_type": "execute_result",
          "data": {
            "text/plain": [
              "(150,)"
            ]
          },
          "metadata": {
            "tags": []
          },
          "execution_count": 19
        }
      ]
    },
    {
      "cell_type": "code",
      "metadata": {
        "id": "6zcA0t5Iy60O",
        "colab_type": "code",
        "colab": {
          "base_uri": "https://localhost:8080/",
          "height": 102
        },
        "outputId": "f1c399ac-e246-4aa2-97ad-e94090da0d41"
      },
      "source": [
        "X[:5]"
      ],
      "execution_count": 20,
      "outputs": [
        {
          "output_type": "execute_result",
          "data": {
            "text/plain": [
              "array([[5.1, 3.5, 1.4, 0.2],\n",
              "       [4.9, 3. , 1.4, 0.2],\n",
              "       [4.7, 3.2, 1.3, 0.2],\n",
              "       [4.6, 3.1, 1.5, 0.2],\n",
              "       [5. , 3.6, 1.4, 0.2]])"
            ]
          },
          "metadata": {
            "tags": []
          },
          "execution_count": 20
        }
      ]
    },
    {
      "cell_type": "code",
      "metadata": {
        "id": "fBaDHhccy60S",
        "colab_type": "code",
        "colab": {
          "base_uri": "https://localhost:8080/",
          "height": 34
        },
        "outputId": "ceaeb749-fc1e-45ca-ac30-dd9f1ed31f0a"
      },
      "source": [
        "# View the first five observations of our y data\n",
        "y[:5]"
      ],
      "execution_count": 21,
      "outputs": [
        {
          "output_type": "execute_result",
          "data": {
            "text/plain": [
              "array([0, 0, 0, 0, 0])"
            ]
          },
          "metadata": {
            "tags": []
          },
          "execution_count": 21
        }
      ]
    },
    {
      "cell_type": "code",
      "metadata": {
        "id": "ORcTfMw0y60V",
        "colab_type": "code",
        "colab": {}
      },
      "source": [
        ""
      ],
      "execution_count": 21,
      "outputs": []
    },
    {
      "cell_type": "code",
      "metadata": {
        "id": "n9sRkWV5y60X",
        "colab_type": "code",
        "colab": {}
      },
      "source": [
        "# Split the data into 70% training data and 30% test data\n",
        "X_train, X_test, y_train, y_test = train_test_split(X, y, test_size=0.3)"
      ],
      "execution_count": 22,
      "outputs": []
    },
    {
      "cell_type": "code",
      "metadata": {
        "id": "Lzezoo54y60Z",
        "colab_type": "code",
        "colab": {
          "base_uri": "https://localhost:8080/",
          "height": 102
        },
        "outputId": "5bf674a8-8885-46a3-9340-d91cec8020c3"
      },
      "source": [
        "X_train[:5]"
      ],
      "execution_count": 23,
      "outputs": [
        {
          "output_type": "execute_result",
          "data": {
            "text/plain": [
              "array([[6.1, 2.9, 4.7, 1.4],\n",
              "       [5.7, 2.8, 4.5, 1.3],\n",
              "       [4.9, 3.6, 1.4, 0.1],\n",
              "       [4.6, 3.2, 1.4, 0.2],\n",
              "       [5.4, 3.9, 1.7, 0.4]])"
            ]
          },
          "metadata": {
            "tags": []
          },
          "execution_count": 23
        }
      ]
    },
    {
      "cell_type": "markdown",
      "metadata": {
        "id": "h6Idpvdby60b",
        "colab_type": "text"
      },
      "source": [
        "## 2) Chuẩn bị dữ liệu"
      ]
    },
    {
      "cell_type": "code",
      "metadata": {
        "scrolled": true,
        "id": "d8aEuhUny60b",
        "colab_type": "code",
        "colab": {
          "base_uri": "https://localhost:8080/",
          "height": 34
        },
        "outputId": "ca9af9ec-a477-476e-fa61-fa00745fdf2d"
      },
      "source": [
        "# Train the scaler, which standarizes all the features to have mean=0 and unit variance\n",
        "sc = StandardScaler()\n",
        "sc.fit(X_train)"
      ],
      "execution_count": 24,
      "outputs": [
        {
          "output_type": "execute_result",
          "data": {
            "text/plain": [
              "StandardScaler(copy=True, with_mean=True, with_std=True)"
            ]
          },
          "metadata": {
            "tags": []
          },
          "execution_count": 24
        }
      ]
    },
    {
      "cell_type": "code",
      "metadata": {
        "id": "BpiKK_2Ly60d",
        "colab_type": "code",
        "colab": {}
      },
      "source": [
        "# Apply the scaler to the X training data\n",
        "X_train_std = sc.transform(X_train)\n",
        "\n",
        "# Apply the SAME scaler to the X test data\n",
        "X_test_std = sc.transform(X_test)"
      ],
      "execution_count": 25,
      "outputs": []
    },
    {
      "cell_type": "code",
      "metadata": {
        "id": "RME08rA9y60f",
        "colab_type": "code",
        "colab": {
          "base_uri": "https://localhost:8080/",
          "height": 102
        },
        "outputId": "e0e625bf-514a-4425-f517-1f03b5509b96"
      },
      "source": [
        "X_train_std[:5]"
      ],
      "execution_count": 26,
      "outputs": [
        {
          "output_type": "execute_result",
          "data": {
            "text/plain": [
              "array([[ 0.38211563, -0.39023174,  0.61998358,  0.35048192],\n",
              "       [-0.10569156, -0.60475704,  0.50597609,  0.21810566],\n",
              "       [-1.08130592,  1.11144537, -1.26113999, -1.37040954],\n",
              "       [-1.4471613 ,  0.25334417, -1.26113999, -1.23803327],\n",
              "       [-0.47154694,  1.75502128, -1.09012875, -0.97328074]])"
            ]
          },
          "metadata": {
            "tags": []
          },
          "execution_count": 26
        }
      ]
    },
    {
      "cell_type": "code",
      "metadata": {
        "id": "11p62n_Ly60j",
        "colab_type": "code",
        "colab": {
          "base_uri": "https://localhost:8080/",
          "height": 102
        },
        "outputId": "4ff6f31d-9660-4900-c580-2becb94e9222"
      },
      "source": [
        "X_test_std[:5]"
      ],
      "execution_count": 27,
      "outputs": [
        {
          "output_type": "execute_result",
          "data": {
            "text/plain": [
              "array([[-0.83740233,  1.54049597, -0.97612126, -0.97328074],\n",
              "       [-0.95935412, -1.67738355, -0.17806884, -0.17902314],\n",
              "       [ 1.1138264 ,  0.03881886,  1.13301728,  1.67424459],\n",
              "       [-1.08130592, -1.46285825, -0.17806884, -0.17902314],\n",
              "       [ 2.33334435, -0.17570644,  1.41803601,  1.54186832]])"
            ]
          },
          "metadata": {
            "tags": []
          },
          "execution_count": 27
        }
      ]
    },
    {
      "cell_type": "markdown",
      "metadata": {
        "id": "rR85fWG7y60l",
        "colab_type": "text"
      },
      "source": [
        "## 3) Xây dựng model Perceptron"
      ]
    },
    {
      "cell_type": "code",
      "metadata": {
        "id": "ZLvxP5Lqy60l",
        "colab_type": "code",
        "colab": {}
      },
      "source": [
        "# Create a perceptron object with the parameters: 40 iterations (epochs) over the data, and a learning rate of 0.1\n",
        "ppn = Perceptron(max_iter=40, eta0=0.1, random_state=0)\n"
      ],
      "execution_count": 28,
      "outputs": []
    },
    {
      "cell_type": "code",
      "metadata": {
        "scrolled": true,
        "id": "Sp_uaYlQy60n",
        "colab_type": "code",
        "colab": {
          "base_uri": "https://localhost:8080/",
          "height": 85
        },
        "outputId": "ebcd2681-d5fc-4a27-85aa-356473a177d9"
      },
      "source": [
        "\n",
        "# Train the perceptron\n",
        "ppn.fit(X_train_std, y_train)"
      ],
      "execution_count": 29,
      "outputs": [
        {
          "output_type": "execute_result",
          "data": {
            "text/plain": [
              "Perceptron(alpha=0.0001, class_weight=None, early_stopping=False, eta0=0.1,\n",
              "           fit_intercept=True, max_iter=40, n_iter_no_change=5, n_jobs=None,\n",
              "           penalty=None, random_state=0, shuffle=True, tol=0.001,\n",
              "           validation_fraction=0.1, verbose=0, warm_start=False)"
            ]
          },
          "metadata": {
            "tags": []
          },
          "execution_count": 29
        }
      ]
    },
    {
      "cell_type": "code",
      "metadata": {
        "id": "Ove6qqgVy60p",
        "colab_type": "code",
        "colab": {
          "base_uri": "https://localhost:8080/",
          "height": 34
        },
        "outputId": "057cdbce-fd94-4584-dd83-f9992fb84b66"
      },
      "source": [
        "#The actual number of iterations to reach the stopping criterion. For multiclass fits, it is the maximum over every binary fit.\n",
        "ppn.n_iter_ "
      ],
      "execution_count": 30,
      "outputs": [
        {
          "output_type": "execute_result",
          "data": {
            "text/plain": [
              "11"
            ]
          },
          "metadata": {
            "tags": []
          },
          "execution_count": 30
        }
      ]
    },
    {
      "cell_type": "markdown",
      "metadata": {
        "id": "IgVUvM8zy60r",
        "colab_type": "text"
      },
      "source": [
        "##### Prediction"
      ]
    },
    {
      "cell_type": "code",
      "metadata": {
        "scrolled": false,
        "id": "x0F4W936y60r",
        "colab_type": "code",
        "colab": {
          "base_uri": "https://localhost:8080/",
          "height": 68
        },
        "outputId": "50df0e73-df4f-48d8-cf00-1a5d91cc32f8"
      },
      "source": [
        "# Apply the trained perceptron on the X data to make predicts for the y test data\n",
        "y_pred = ppn.predict(X_test_std)\n",
        "y_pred"
      ],
      "execution_count": 31,
      "outputs": [
        {
          "output_type": "execute_result",
          "data": {
            "text/plain": [
              "array([0, 1, 2, 1, 2, 1, 0, 2, 1, 2, 2, 1, 2, 2, 2, 0, 1, 0, 1, 1, 2, 2,\n",
              "       0, 0, 1, 2, 0, 0, 1, 1, 0, 2, 1, 1, 2, 0, 2, 2, 2, 0, 1, 0, 1, 2,\n",
              "       1])"
            ]
          },
          "metadata": {
            "tags": []
          },
          "execution_count": 31
        }
      ]
    },
    {
      "cell_type": "code",
      "metadata": {
        "id": "qQK_hwaFy60t",
        "colab_type": "code",
        "colab": {
          "base_uri": "https://localhost:8080/",
          "height": 34
        },
        "outputId": "32b77af5-85da-457d-c3a4-52f284836e80"
      },
      "source": [
        "# View the accuracy of the model, which is: 1 - (observations predicted wrong / total observations)\n",
        "print('Accuracy: %.2f' % accuracy_score(y_test, y_pred))"
      ],
      "execution_count": 32,
      "outputs": [
        {
          "output_type": "stream",
          "text": [
            "Accuracy: 0.91\n"
          ],
          "name": "stdout"
        }
      ]
    },
    {
      "cell_type": "markdown",
      "metadata": {
        "id": "AJnEwJi4y60v",
        "colab_type": "text"
      },
      "source": [
        "## 4) Xây dựng model MLPClassifier"
      ]
    },
    {
      "cell_type": "code",
      "metadata": {
        "id": "j_EA5f-Uy60v",
        "colab_type": "code",
        "colab": {}
      },
      "source": [
        "from sklearn.neural_network import MLPClassifier\n",
        "\n",
        "clf = MLPClassifier(hidden_layer_sizes=(8,5 ), activation='tanh', solver='sgd', \n",
        "                    alpha=0.0000001, batch_size=4, learning_rate='constant', learning_rate_init=0.005, \n",
        "                    power_t=0.5, max_iter=500, shuffle=True, random_state=11, tol=0.00001, \n",
        "                    verbose=True, warm_start=False, momentum=0.8, nesterovs_momentum=True, \n",
        "                    early_stopping=False, validation_fraction=0.2, \n",
        "                    beta_1=0.9, beta_2=0.999, epsilon=1e-08)\n"
      ],
      "execution_count": 33,
      "outputs": []
    },
    {
      "cell_type": "code",
      "metadata": {
        "scrolled": false,
        "id": "4eizoaJGy60w",
        "colab_type": "code",
        "colab": {
          "base_uri": "https://localhost:8080/",
          "height": 1000
        },
        "outputId": "8d8a0bbe-61c1-40e2-99ab-ed1625a38eb5"
      },
      "source": [
        "\n",
        "# Train the perceptron\n",
        "clf.fit(X_train_std, y_train)"
      ],
      "execution_count": 34,
      "outputs": [
        {
          "output_type": "stream",
          "text": [
            "Iteration 1, loss = 1.05785003\n",
            "Iteration 2, loss = 0.82548689\n",
            "Iteration 3, loss = 0.68967166\n",
            "Iteration 4, loss = 0.60454779\n",
            "Iteration 5, loss = 0.54597855\n",
            "Iteration 6, loss = 0.50556334\n",
            "Iteration 7, loss = 0.47371852\n",
            "Iteration 8, loss = 0.44872418\n",
            "Iteration 9, loss = 0.42856772\n",
            "Iteration 10, loss = 0.40660593\n",
            "Iteration 11, loss = 0.38691857\n",
            "Iteration 12, loss = 0.36583292\n",
            "Iteration 13, loss = 0.34498322\n",
            "Iteration 14, loss = 0.32652911\n",
            "Iteration 15, loss = 0.30637807\n",
            "Iteration 16, loss = 0.28729549\n",
            "Iteration 17, loss = 0.27026334\n",
            "Iteration 18, loss = 0.25265251\n",
            "Iteration 19, loss = 0.23807192\n",
            "Iteration 20, loss = 0.22183609\n",
            "Iteration 21, loss = 0.20832608\n",
            "Iteration 22, loss = 0.19650441\n",
            "Iteration 23, loss = 0.18359818\n",
            "Iteration 24, loss = 0.17092628\n",
            "Iteration 25, loss = 0.16138977\n",
            "Iteration 26, loss = 0.15197293\n",
            "Iteration 27, loss = 0.14409145\n",
            "Iteration 28, loss = 0.13989108\n",
            "Iteration 29, loss = 0.12948048\n",
            "Iteration 30, loss = 0.12409988\n",
            "Iteration 31, loss = 0.11975852\n",
            "Iteration 32, loss = 0.11256925\n",
            "Iteration 33, loss = 0.10891184\n",
            "Iteration 34, loss = 0.10410335\n",
            "Iteration 35, loss = 0.10178665\n",
            "Iteration 36, loss = 0.09793450\n",
            "Iteration 37, loss = 0.09617320\n",
            "Iteration 38, loss = 0.09050880\n",
            "Iteration 39, loss = 0.09041863\n",
            "Iteration 40, loss = 0.08675471\n",
            "Iteration 41, loss = 0.08667564\n",
            "Iteration 42, loss = 0.08506524\n",
            "Iteration 43, loss = 0.08256160\n",
            "Iteration 44, loss = 0.07970290\n",
            "Iteration 45, loss = 0.07779536\n",
            "Iteration 46, loss = 0.07636440\n",
            "Iteration 47, loss = 0.07624955\n",
            "Iteration 48, loss = 0.07345867\n",
            "Iteration 49, loss = 0.07184533\n",
            "Iteration 50, loss = 0.07086569\n",
            "Iteration 51, loss = 0.07047209\n",
            "Iteration 52, loss = 0.07748369\n",
            "Iteration 53, loss = 0.06718737\n",
            "Iteration 54, loss = 0.06746003\n",
            "Iteration 55, loss = 0.06810900\n",
            "Iteration 56, loss = 0.06732925\n",
            "Iteration 57, loss = 0.06492191\n",
            "Iteration 58, loss = 0.06622905\n",
            "Iteration 59, loss = 0.06232604\n",
            "Iteration 60, loss = 0.06223053\n",
            "Iteration 61, loss = 0.06308671\n",
            "Iteration 62, loss = 0.06092472\n",
            "Iteration 63, loss = 0.06071050\n",
            "Iteration 64, loss = 0.06053363\n",
            "Iteration 65, loss = 0.05887494\n",
            "Iteration 66, loss = 0.06338852\n",
            "Iteration 67, loss = 0.05678739\n",
            "Iteration 68, loss = 0.05468596\n",
            "Iteration 69, loss = 0.05513482\n",
            "Iteration 70, loss = 0.05451208\n",
            "Iteration 71, loss = 0.05563557\n",
            "Iteration 72, loss = 0.05673742\n",
            "Iteration 73, loss = 0.05342668\n",
            "Iteration 74, loss = 0.05498220\n",
            "Iteration 75, loss = 0.05294512\n",
            "Iteration 76, loss = 0.04926341\n",
            "Iteration 77, loss = 0.05056518\n",
            "Iteration 78, loss = 0.05052108\n",
            "Iteration 79, loss = 0.04869428\n",
            "Iteration 80, loss = 0.04951873\n",
            "Iteration 81, loss = 0.05233574\n",
            "Iteration 82, loss = 0.04877812\n",
            "Iteration 83, loss = 0.04813970\n",
            "Iteration 84, loss = 0.04923827\n",
            "Iteration 85, loss = 0.04766870\n",
            "Iteration 86, loss = 0.04862277\n",
            "Iteration 87, loss = 0.04669194\n",
            "Iteration 88, loss = 0.04489854\n",
            "Iteration 89, loss = 0.04489179\n",
            "Iteration 90, loss = 0.04605093\n",
            "Iteration 91, loss = 0.04472439\n",
            "Iteration 92, loss = 0.04490404\n",
            "Iteration 93, loss = 0.04411446\n",
            "Iteration 94, loss = 0.04338936\n",
            "Iteration 95, loss = 0.06512723\n",
            "Iteration 96, loss = 0.06640673\n",
            "Iteration 97, loss = 0.04291304\n",
            "Iteration 98, loss = 0.04232554\n",
            "Iteration 99, loss = 0.04291720\n",
            "Iteration 100, loss = 0.04283394\n",
            "Iteration 101, loss = 0.04298264\n",
            "Iteration 102, loss = 0.03990712\n",
            "Iteration 103, loss = 0.04007131\n",
            "Iteration 104, loss = 0.03893087\n",
            "Iteration 105, loss = 0.03894166\n",
            "Iteration 106, loss = 0.03896885\n",
            "Iteration 107, loss = 0.04359094\n",
            "Iteration 108, loss = 0.03889375\n",
            "Iteration 109, loss = 0.03730737\n",
            "Iteration 110, loss = 0.03576523\n",
            "Iteration 111, loss = 0.03615631\n",
            "Iteration 112, loss = 0.03593011\n",
            "Iteration 113, loss = 0.03571197\n",
            "Iteration 114, loss = 0.03548931\n",
            "Iteration 115, loss = 0.03414040\n",
            "Iteration 116, loss = 0.03583488\n",
            "Iteration 117, loss = 0.03521679\n",
            "Iteration 118, loss = 0.03398447\n",
            "Iteration 119, loss = 0.03470138\n",
            "Iteration 120, loss = 0.03708101\n",
            "Iteration 121, loss = 0.03487632\n",
            "Iteration 122, loss = 0.03335816\n",
            "Iteration 123, loss = 0.03351498\n",
            "Iteration 124, loss = 0.03386543\n",
            "Iteration 125, loss = 0.03314385\n",
            "Iteration 126, loss = 0.03084656\n",
            "Iteration 127, loss = 0.03624631\n",
            "Iteration 128, loss = 0.03544903\n",
            "Iteration 129, loss = 0.03442776\n",
            "Iteration 130, loss = 0.03154719\n",
            "Iteration 131, loss = 0.05394670\n",
            "Iteration 132, loss = 0.03251149\n",
            "Iteration 133, loss = 0.02951881\n",
            "Iteration 134, loss = 0.03164315\n",
            "Iteration 135, loss = 0.03098064\n",
            "Iteration 136, loss = 0.03067533\n",
            "Iteration 137, loss = 0.02856837\n",
            "Iteration 138, loss = 0.02966953\n",
            "Iteration 139, loss = 0.02943852\n",
            "Iteration 140, loss = 0.02953130\n",
            "Iteration 141, loss = 0.02708457\n",
            "Iteration 142, loss = 0.02928079\n",
            "Iteration 143, loss = 0.03001519\n",
            "Iteration 144, loss = 0.02812129\n",
            "Iteration 145, loss = 0.02920834\n",
            "Iteration 146, loss = 0.02740448\n",
            "Iteration 147, loss = 0.02627896\n",
            "Iteration 148, loss = 0.02606099\n",
            "Iteration 149, loss = 0.02731118\n",
            "Iteration 150, loss = 0.02959401\n",
            "Iteration 151, loss = 0.02567696\n",
            "Iteration 152, loss = 0.02638817\n",
            "Iteration 153, loss = 0.02757072\n",
            "Iteration 154, loss = 0.02789176\n",
            "Iteration 155, loss = 0.02466760\n",
            "Iteration 156, loss = 0.02534736\n",
            "Iteration 157, loss = 0.02551127\n",
            "Iteration 158, loss = 0.02509448\n",
            "Iteration 159, loss = 0.02525862\n",
            "Iteration 160, loss = 0.02469032\n",
            "Iteration 161, loss = 0.02500022\n",
            "Iteration 162, loss = 0.02521646\n",
            "Iteration 163, loss = 0.02464296\n",
            "Iteration 164, loss = 0.02558530\n",
            "Iteration 165, loss = 0.02414995\n",
            "Iteration 166, loss = 0.02475949\n",
            "Iteration 167, loss = 0.02455463\n",
            "Iteration 168, loss = 0.02836974\n",
            "Iteration 169, loss = 0.02424481\n",
            "Iteration 170, loss = 0.02411552\n",
            "Iteration 171, loss = 0.02257189\n",
            "Iteration 172, loss = 0.02303015\n",
            "Iteration 173, loss = 0.02502664\n",
            "Iteration 174, loss = 0.02372497\n",
            "Iteration 175, loss = 0.02418395\n",
            "Iteration 176, loss = 0.02270956\n",
            "Iteration 177, loss = 0.02349365\n",
            "Iteration 178, loss = 0.02230989\n",
            "Iteration 179, loss = 0.02354110\n",
            "Iteration 180, loss = 0.02356001\n",
            "Iteration 181, loss = 0.02467455\n",
            "Iteration 182, loss = 0.03859344\n",
            "Iteration 183, loss = 0.02111300\n",
            "Iteration 184, loss = 0.02172848\n",
            "Iteration 185, loss = 0.02004345\n",
            "Iteration 186, loss = 0.02013903\n",
            "Iteration 187, loss = 0.02231079\n",
            "Iteration 188, loss = 0.02034783\n",
            "Iteration 189, loss = 0.01894655\n",
            "Iteration 190, loss = 0.02086177\n",
            "Iteration 191, loss = 0.02313393\n",
            "Iteration 192, loss = 0.02073501\n",
            "Iteration 193, loss = 0.02132203\n",
            "Iteration 194, loss = 0.02105954\n",
            "Iteration 195, loss = 0.01911327\n",
            "Iteration 196, loss = 0.01936915\n",
            "Iteration 197, loss = 0.01808521\n",
            "Iteration 198, loss = 0.01886614\n",
            "Iteration 199, loss = 0.02803753\n",
            "Iteration 200, loss = 0.01973428\n",
            "Iteration 201, loss = 0.01791071\n",
            "Iteration 202, loss = 0.01933073\n",
            "Iteration 203, loss = 0.01829285\n",
            "Iteration 204, loss = 0.01865109\n",
            "Iteration 205, loss = 0.01879749\n",
            "Iteration 206, loss = 0.01804413\n",
            "Iteration 207, loss = 0.01745977\n",
            "Iteration 208, loss = 0.02044839\n",
            "Iteration 209, loss = 0.01810498\n",
            "Iteration 210, loss = 0.01905426\n",
            "Iteration 211, loss = 0.01735298\n",
            "Iteration 212, loss = 0.01780638\n",
            "Iteration 213, loss = 0.01721449\n",
            "Iteration 214, loss = 0.01678930\n",
            "Iteration 215, loss = 0.01729781\n",
            "Iteration 216, loss = 0.01744932\n",
            "Iteration 217, loss = 0.01576425\n",
            "Iteration 218, loss = 0.01799459\n",
            "Iteration 219, loss = 0.01786732\n",
            "Iteration 220, loss = 0.01842012\n",
            "Iteration 221, loss = 0.01754811\n",
            "Iteration 222, loss = 0.01868757\n",
            "Iteration 223, loss = 0.01974950\n",
            "Iteration 224, loss = 0.01775933\n",
            "Iteration 225, loss = 0.01595803\n",
            "Iteration 226, loss = 0.01549359\n",
            "Iteration 227, loss = 0.01568561\n",
            "Iteration 228, loss = 0.01568102\n",
            "Iteration 229, loss = 0.01598232\n",
            "Iteration 230, loss = 0.01619053\n",
            "Iteration 231, loss = 0.01515352\n",
            "Iteration 232, loss = 0.01556087\n",
            "Iteration 233, loss = 0.01687227\n",
            "Iteration 234, loss = 0.01344692\n",
            "Iteration 235, loss = 0.01535239\n",
            "Iteration 236, loss = 0.01500438\n",
            "Iteration 237, loss = 0.01485940\n",
            "Iteration 238, loss = 0.01517682\n",
            "Iteration 239, loss = 0.01452038\n",
            "Iteration 240, loss = 0.01361049\n",
            "Iteration 241, loss = 0.01423122\n",
            "Iteration 242, loss = 0.01392706\n",
            "Iteration 243, loss = 0.01526413\n",
            "Iteration 244, loss = 0.01595816\n",
            "Iteration 245, loss = 0.01456570\n",
            "Training loss did not improve more than tol=0.000010 for 10 consecutive epochs. Stopping.\n"
          ],
          "name": "stdout"
        },
        {
          "output_type": "execute_result",
          "data": {
            "text/plain": [
              "MLPClassifier(activation='tanh', alpha=1e-07, batch_size=4, beta_1=0.9,\n",
              "              beta_2=0.999, early_stopping=False, epsilon=1e-08,\n",
              "              hidden_layer_sizes=(8, 5), learning_rate='constant',\n",
              "              learning_rate_init=0.005, max_fun=15000, max_iter=500,\n",
              "              momentum=0.8, n_iter_no_change=10, nesterovs_momentum=True,\n",
              "              power_t=0.5, random_state=11, shuffle=True, solver='sgd',\n",
              "              tol=1e-05, validation_fraction=0.2, verbose=True,\n",
              "              warm_start=False)"
            ]
          },
          "metadata": {
            "tags": []
          },
          "execution_count": 34
        }
      ]
    },
    {
      "cell_type": "code",
      "metadata": {
        "id": "AIGKlsPRy60y",
        "colab_type": "code",
        "colab": {
          "base_uri": "https://localhost:8080/",
          "height": 34
        },
        "outputId": "04e6967c-009d-4221-b549-a9a0c5a6559e"
      },
      "source": [
        "clf.classes_ "
      ],
      "execution_count": 35,
      "outputs": [
        {
          "output_type": "execute_result",
          "data": {
            "text/plain": [
              "array([0, 1, 2])"
            ]
          },
          "metadata": {
            "tags": []
          },
          "execution_count": 35
        }
      ]
    },
    {
      "cell_type": "code",
      "metadata": {
        "id": "Bb3cQqcSy600",
        "colab_type": "code",
        "colab": {
          "base_uri": "https://localhost:8080/",
          "height": 34
        },
        "outputId": "eb67b5cd-885d-44d0-ed07-4abb434ef623"
      },
      "source": [
        "clf.n_layers_ "
      ],
      "execution_count": 36,
      "outputs": [
        {
          "output_type": "execute_result",
          "data": {
            "text/plain": [
              "4"
            ]
          },
          "metadata": {
            "tags": []
          },
          "execution_count": 36
        }
      ]
    },
    {
      "cell_type": "code",
      "metadata": {
        "id": "acXfGFRMy601",
        "colab_type": "code",
        "colab": {
          "base_uri": "https://localhost:8080/",
          "height": 34
        },
        "outputId": "c9be2f48-980d-461a-8880-22ed5b4fe711"
      },
      "source": [
        "clf.n_outputs_ "
      ],
      "execution_count": 37,
      "outputs": [
        {
          "output_type": "execute_result",
          "data": {
            "text/plain": [
              "3"
            ]
          },
          "metadata": {
            "tags": []
          },
          "execution_count": 37
        }
      ]
    },
    {
      "cell_type": "code",
      "metadata": {
        "id": "AhJ6YtKIy603",
        "colab_type": "code",
        "colab": {
          "base_uri": "https://localhost:8080/",
          "height": 34
        },
        "outputId": "48e863a8-40d0-4a6e-cb25-f7bd4eed66f8"
      },
      "source": [
        "clf.out_activation_ "
      ],
      "execution_count": 38,
      "outputs": [
        {
          "output_type": "execute_result",
          "data": {
            "text/plain": [
              "'softmax'"
            ]
          },
          "metadata": {
            "tags": []
          },
          "execution_count": 38
        }
      ]
    },
    {
      "cell_type": "markdown",
      "metadata": {
        "id": "lLElZmk7y604",
        "colab_type": "text"
      },
      "source": [
        "- 1 input, 2 hidden, 1 ouput: => 4\n",
        "- Thông thường trong Neural Networks, sẽ ko tính input layers, nên  trong Neural Networks, trường hợp này số Layers sẽ là 3"
      ]
    },
    {
      "cell_type": "code",
      "metadata": {
        "id": "f_48CeAxy604",
        "colab_type": "code",
        "colab": {
          "base_uri": "https://localhost:8080/",
          "height": 34
        },
        "outputId": "716f5a6c-4aff-4194-86ad-883863d12997"
      },
      "source": [
        "# Evaluate acuracy on test data\n",
        "score = clf.score(X_test_std,y_test)\n",
        "print(\"Acuracy (on test set) = \", score)"
      ],
      "execution_count": 39,
      "outputs": [
        {
          "output_type": "stream",
          "text": [
            "Acuracy (on test set) =  0.9777777777777777\n"
          ],
          "name": "stdout"
        }
      ]
    },
    {
      "cell_type": "markdown",
      "metadata": {
        "id": "Dt2w6nB0y606",
        "colab_type": "text"
      },
      "source": [
        "- Ta thấy chỉ cần tăng #Layers, #Units độ chính xác sẽ tăng cao"
      ]
    },
    {
      "cell_type": "code",
      "metadata": {
        "id": "lwbO5Ypqy606",
        "colab_type": "code",
        "colab": {}
      },
      "source": [
        ""
      ],
      "execution_count": 39,
      "outputs": []
    }
  ]
}