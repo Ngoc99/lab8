{
  "nbformat": 4,
  "nbformat_minor": 0,
  "metadata": {
    "kernelspec": {
      "display_name": "Python 3",
      "language": "python",
      "name": "python3"
    },
    "language_info": {
      "codemirror_mode": {
        "name": "ipython",
        "version": 3
      },
      "file_extension": ".py",
      "mimetype": "text/x-python",
      "name": "python",
      "nbconvert_exporter": "python",
      "pygments_lexer": "ipython3",
      "version": "3.6.6"
    },
    "colab": {
      "name": "2-Lab-MLPClassifier.ipynb",
      "provenance": [],
      "include_colab_link": true
    }
  },
  "cells": [
    {
      "cell_type": "markdown",
      "metadata": {
        "id": "view-in-github",
        "colab_type": "text"
      },
      "source": [
        "<a href=\"https://colab.research.google.com/github/Ngoc99/lab8/blob/master/2_Lab_MLPClassifier.ipynb\" target=\"_parent\"><img src=\"https://colab.research.google.com/assets/colab-badge.svg\" alt=\"Open In Colab\"/></a>"
      ]
    },
    {
      "cell_type": "markdown",
      "metadata": {
        "colab_type": "text",
        "id": "gvKshvFzQorr"
      },
      "source": [
        "#  Multilayer Perceptron trong Python"
      ]
    },
    {
      "cell_type": "code",
      "metadata": {
        "id": "0HhzNQn-xDBM",
        "colab_type": "code",
        "colab": {}
      },
      "source": [
        "import numpy as np\n",
        "\n",
        "from matplotlib import pyplot as plt\n",
        "from matplotlib.colors import ListedColormap\n",
        "\n",
        "from sklearn.model_selection import train_test_split\n",
        "from sklearn import preprocessing \n",
        "from sklearn.preprocessing import StandardScaler\n",
        "from sklearn.datasets import make_moons\n",
        "import numpy as np\n",
        "from sklearn.neural_network import MLPClassifier"
      ],
      "execution_count": 1,
      "outputs": []
    },
    {
      "cell_type": "markdown",
      "metadata": {
        "id": "heN6gRcmxDBY",
        "colab_type": "text"
      },
      "source": [
        "## 1) MLPClassifier for toy dataset "
      ]
    },
    {
      "cell_type": "markdown",
      "metadata": {
        "id": "MtwR5UQExDBb",
        "colab_type": "text"
      },
      "source": [
        "### Chuẩn bị dữ liệu"
      ]
    },
    {
      "cell_type": "code",
      "metadata": {
        "id": "IkxiRCyHxDBc",
        "colab_type": "code",
        "colab": {}
      },
      "source": [
        "# Create artificial dataset (classification problem within 2 classes within R^2 input space)\n",
        "X, y = make_moons(n_samples=900, noise=0.2, random_state=0)"
      ],
      "execution_count": 2,
      "outputs": []
    },
    {
      "cell_type": "code",
      "metadata": {
        "id": "05hxuN-yxDBj",
        "colab_type": "code",
        "colab": {}
      },
      "source": [
        "X = np.array(X)\n",
        "y = np.array(y)"
      ],
      "execution_count": 3,
      "outputs": []
    },
    {
      "cell_type": "code",
      "metadata": {
        "id": "CL4CdrzmxDBr",
        "colab_type": "code",
        "colab": {
          "base_uri": "https://localhost:8080/",
          "height": 34
        },
        "outputId": "ff2d8ad8-a905-40ef-cfab-8dd37e1ca291"
      },
      "source": [
        "X.shape"
      ],
      "execution_count": 4,
      "outputs": [
        {
          "output_type": "execute_result",
          "data": {
            "text/plain": [
              "(900, 2)"
            ]
          },
          "metadata": {
            "tags": []
          },
          "execution_count": 4
        }
      ]
    },
    {
      "cell_type": "code",
      "metadata": {
        "id": "bVfpb65WxDBy",
        "colab_type": "code",
        "colab": {
          "base_uri": "https://localhost:8080/",
          "height": 34
        },
        "outputId": "217373b4-e353-4638-f1b7-331a584dc7b2"
      },
      "source": [
        "y.shape"
      ],
      "execution_count": 5,
      "outputs": [
        {
          "output_type": "execute_result",
          "data": {
            "text/plain": [
              "(900,)"
            ]
          },
          "metadata": {
            "tags": []
          },
          "execution_count": 5
        }
      ]
    },
    {
      "cell_type": "code",
      "metadata": {
        "id": "GPWtTXM9xDB3",
        "colab_type": "code",
        "colab": {}
      },
      "source": [
        "# Preprocess dataset, and split into training and test part\n",
        "X = StandardScaler().fit_transform(X)\n",
        "X_train, X_test, y_train, y_test = train_test_split(X, y, test_size=0.7)"
      ],
      "execution_count": 6,
      "outputs": []
    },
    {
      "cell_type": "code",
      "metadata": {
        "id": "NHsMNXgkxDB8",
        "colab_type": "code",
        "colab": {}
      },
      "source": [
        "# Encode class labels as binary vector (with exactly ONE bit set to 1, and all others to 0)\n",
        "Y_train_OneHot = np.eye(2)[y_train]\n",
        "Y_test_OneHot = np.eye(2)[y_test]"
      ],
      "execution_count": 7,
      "outputs": []
    },
    {
      "cell_type": "code",
      "metadata": {
        "id": "5t82ZVvkxDB_",
        "colab_type": "code",
        "colab": {
          "base_uri": "https://localhost:8080/",
          "height": 34
        },
        "outputId": "21b02ed8-f213-498e-a756-6e4e3a77ffdd"
      },
      "source": [
        "X_train.shape"
      ],
      "execution_count": 8,
      "outputs": [
        {
          "output_type": "execute_result",
          "data": {
            "text/plain": [
              "(270, 2)"
            ]
          },
          "metadata": {
            "tags": []
          },
          "execution_count": 8
        }
      ]
    },
    {
      "cell_type": "code",
      "metadata": {
        "id": "qZGqqwB0xDCC",
        "colab_type": "code",
        "colab": {
          "base_uri": "https://localhost:8080/",
          "height": 34
        },
        "outputId": "891b7507-22d9-45c8-e576-26fe3f66a025"
      },
      "source": [
        "y_train.shape"
      ],
      "execution_count": 9,
      "outputs": [
        {
          "output_type": "execute_result",
          "data": {
            "text/plain": [
              "(270,)"
            ]
          },
          "metadata": {
            "tags": []
          },
          "execution_count": 9
        }
      ]
    },
    {
      "cell_type": "code",
      "metadata": {
        "id": "E-UJD-cuxDCG",
        "colab_type": "code",
        "colab": {}
      },
      "source": [
        "# Plot training+testing dataset\n",
        "################################\n",
        "cm = plt.cm.RdBu\n",
        "cm_bright = ListedColormap(['#FF0000', '#0000FF'])"
      ],
      "execution_count": 10,
      "outputs": []
    },
    {
      "cell_type": "code",
      "metadata": {
        "scrolled": true,
        "id": "agNTAi3ZxDCJ",
        "colab_type": "code",
        "colab": {
          "base_uri": "https://localhost:8080/",
          "height": 282
        },
        "outputId": "be0dc3ef-29cc-41f9-f7e5-6d688f1f9bd0"
      },
      "source": [
        "# Plot the training points...\n",
        "plt.scatter(X_train[:, 0], X_train[:, 1], c=y_train, cmap=cm_bright)"
      ],
      "execution_count": 11,
      "outputs": [
        {
          "output_type": "execute_result",
          "data": {
            "text/plain": [
              "<matplotlib.collections.PathCollection at 0x7f7abd631320>"
            ]
          },
          "metadata": {
            "tags": []
          },
          "execution_count": 11
        },
        {
          "output_type": "display_data",
          "data": {
            "image/png": "[encoded data removed]",
            "text/plain": [
              "<Figure size 432x288 with 1 Axes>"
            ]
          },
          "metadata": {
            "tags": [],
            "needs_background": "light"
          }
        }
      ]
    },
    {
      "cell_type": "code",
      "metadata": {
        "scrolled": true,
        "id": "QZM5_xt7xDCM",
        "colab_type": "code",
        "colab": {
          "base_uri": "https://localhost:8080/",
          "height": 282
        },
        "outputId": "accb3bfa-f425-4844-c5f9-c6fcd04e357e"
      },
      "source": [
        "#   ...and testing points\n",
        "plt.scatter(X_test[:, 0], X_test[:, 1], marker='x', c=y_test, cmap=cm_bright, alpha=0.3)\n"
      ],
      "execution_count": 12,
      "outputs": [
        {
          "output_type": "execute_result",
          "data": {
            "text/plain": [
              "<matplotlib.collections.PathCollection at 0x7f7aba97aac8>"
            ]
          },
          "metadata": {
            "tags": []
          },
          "execution_count": 12
        },
        {
          "output_type": "display_data",
          "data": {
            "image/png": "[encoded data removed]",
            "text/plain": [
              "<Figure size 432x288 with 1 Axes>"
            ]
          },
          "metadata": {
            "tags": [],
            "needs_background": "light"
          }
        }
      ]
    },
    {
      "cell_type": "markdown",
      "metadata": {
        "id": "1S894wpVxDCP",
        "colab_type": "text"
      },
      "source": [
        "### Xây dựng model `MLPClassifier`"
      ]
    },
    {
      "cell_type": "code",
      "metadata": {
        "scrolled": true,
        "id": "jwEkPNjkxDCP",
        "colab_type": "code",
        "colab": {
          "base_uri": "https://localhost:8080/",
          "height": 153
        },
        "outputId": "82c8dcca-d600-4ea7-f4de-8044c448497c"
      },
      "source": [
        "\n",
        "\n",
        "clf = MLPClassifier(hidden_layer_sizes=(1, ), activation='tanh', solver='sgd', \n",
        "                    alpha=0.0000001, batch_size=4, learning_rate='constant', learning_rate_init=0.005, \n",
        "                    power_t=0.5, max_iter=500, shuffle=True, random_state=11, tol=0.00001, \n",
        "                    verbose=True, warm_start=False, momentum=0.8, nesterovs_momentum=True, \n",
        "                    early_stopping=False, validation_fraction=0.2, \n",
        "                    beta_1=0.9, beta_2=0.999, epsilon=1e-08)\n",
        "print(clf)"
      ],
      "execution_count": 13,
      "outputs": [
        {
          "output_type": "stream",
          "text": [
            "MLPClassifier(activation='tanh', alpha=1e-07, batch_size=4, beta_1=0.9,\n",
            "              beta_2=0.999, early_stopping=False, epsilon=1e-08,\n",
            "              hidden_layer_sizes=(1,), learning_rate='constant',\n",
            "              learning_rate_init=0.005, max_fun=15000, max_iter=500,\n",
            "              momentum=0.8, n_iter_no_change=10, nesterovs_momentum=True,\n",
            "              power_t=0.5, random_state=11, shuffle=True, solver='sgd',\n",
            "              tol=1e-05, validation_fraction=0.2, verbose=True,\n",
            "              warm_start=False)\n"
          ],
          "name": "stdout"
        }
      ]
    },
    {
      "cell_type": "code",
      "metadata": {
        "scrolled": true,
        "id": "KL_sPQP4xDCS",
        "colab_type": "code",
        "colab": {
          "base_uri": "https://localhost:8080/",
          "height": 1000
        },
        "outputId": "7dc3ee53-da23-4d22-aaee-2f6dd52d91e7"
      },
      "source": [
        "\n",
        "# Train the MLP classifier on training dataset\n",
        "clf.fit(X_train, Y_train_OneHot)\n",
        "print()\n"
      ],
      "execution_count": 14,
      "outputs": [
        {
          "output_type": "stream",
          "text": [
            "Iteration 1, loss = 1.61782867\n",
            "Iteration 2, loss = 1.46336388\n",
            "Iteration 3, loss = 1.38459334\n",
            "Iteration 4, loss = 1.32321289\n",
            "Iteration 5, loss = 1.24889455\n",
            "Iteration 6, loss = 1.15548341\n",
            "Iteration 7, loss = 1.04889855\n",
            "Iteration 8, loss = 0.93978175\n",
            "Iteration 9, loss = 0.84898173\n",
            "Iteration 10, loss = 0.78414044\n",
            "Iteration 11, loss = 0.74164191\n",
            "Iteration 12, loss = 0.71740556\n",
            "Iteration 13, loss = 0.70160787\n",
            "Iteration 14, loss = 0.68982051\n",
            "Iteration 15, loss = 0.68390074\n",
            "Iteration 16, loss = 0.67881310\n",
            "Iteration 17, loss = 0.67152207\n",
            "Iteration 18, loss = 0.66713332\n",
            "Iteration 19, loss = 0.66371361\n",
            "Iteration 20, loss = 0.66030339\n",
            "Iteration 21, loss = 0.65985340\n",
            "Iteration 22, loss = 0.65673718\n",
            "Iteration 23, loss = 0.65391946\n",
            "Iteration 24, loss = 0.65118542\n",
            "Iteration 25, loss = 0.64914781\n",
            "Iteration 26, loss = 0.64807004\n",
            "Iteration 27, loss = 0.64837625\n",
            "Iteration 28, loss = 0.64626185\n",
            "Iteration 29, loss = 0.64517167\n",
            "Iteration 30, loss = 0.64714578\n",
            "Iteration 31, loss = 0.64185647\n",
            "Iteration 32, loss = 0.63907867\n",
            "Iteration 33, loss = 0.63909785\n",
            "Iteration 34, loss = 0.63733703\n",
            "Iteration 35, loss = 0.63951673\n",
            "Iteration 36, loss = 0.63560014\n",
            "Iteration 37, loss = 0.63445367\n",
            "Iteration 38, loss = 0.63466986\n",
            "Iteration 39, loss = 0.63452318\n",
            "Iteration 40, loss = 0.63530720\n",
            "Iteration 41, loss = 0.63367577\n",
            "Iteration 42, loss = 0.63095902\n",
            "Iteration 43, loss = 0.62975272\n",
            "Iteration 44, loss = 0.63174276\n",
            "Iteration 45, loss = 0.62793119\n",
            "Iteration 46, loss = 0.62480439\n",
            "Iteration 47, loss = 0.63333448\n",
            "Iteration 48, loss = 0.62960775\n",
            "Iteration 49, loss = 0.62573832\n",
            "Iteration 50, loss = 0.62450658\n",
            "Iteration 51, loss = 0.62632887\n",
            "Iteration 52, loss = 0.62313808\n",
            "Iteration 53, loss = 0.62619077\n",
            "Iteration 54, loss = 0.62540755\n",
            "Iteration 55, loss = 0.62744063\n",
            "Iteration 56, loss = 0.62535066\n",
            "Iteration 57, loss = 0.62611625\n",
            "Iteration 58, loss = 0.62719409\n",
            "Iteration 59, loss = 0.62168227\n",
            "Iteration 60, loss = 0.62725938\n",
            "Iteration 61, loss = 0.62589650\n",
            "Iteration 62, loss = 0.62476993\n",
            "Iteration 63, loss = 0.62354645\n",
            "Iteration 64, loss = 0.62360506\n",
            "Iteration 65, loss = 0.62072084\n",
            "Iteration 66, loss = 0.62594962\n",
            "Iteration 67, loss = 0.62300097\n",
            "Iteration 68, loss = 0.62606939\n",
            "Iteration 69, loss = 0.62007593\n",
            "Iteration 70, loss = 0.62214907\n",
            "Iteration 71, loss = 0.61910020\n",
            "Iteration 72, loss = 0.62562593\n",
            "Iteration 73, loss = 0.61460023\n",
            "Iteration 74, loss = 0.62204446\n",
            "Iteration 75, loss = 0.62590825\n",
            "Iteration 76, loss = 0.62069606\n",
            "Iteration 77, loss = 0.61902008\n",
            "Iteration 78, loss = 0.61497106\n",
            "Iteration 79, loss = 0.62205630\n",
            "Iteration 80, loss = 0.61795678\n",
            "Iteration 81, loss = 0.62305855\n",
            "Iteration 82, loss = 0.62427057\n",
            "Iteration 83, loss = 0.61780215\n",
            "Iteration 84, loss = 0.61371788\n",
            "Iteration 85, loss = 0.62351809\n",
            "Iteration 86, loss = 0.62093830\n",
            "Iteration 87, loss = 0.61757022\n",
            "Iteration 88, loss = 0.62483536\n",
            "Iteration 89, loss = 0.61516205\n",
            "Iteration 90, loss = 0.62146206\n",
            "Iteration 91, loss = 0.61994393\n",
            "Iteration 92, loss = 0.61473038\n",
            "Iteration 93, loss = 0.61769974\n",
            "Iteration 94, loss = 0.62327694\n",
            "Iteration 95, loss = 0.61727589\n",
            "Training loss did not improve more than tol=0.000010 for 10 consecutive epochs. Stopping.\n",
            "\n"
          ],
          "name": "stdout"
        }
      ]
    },
    {
      "cell_type": "code",
      "metadata": {
        "id": "3vyEVa1kxDCV",
        "colab_type": "code",
        "colab": {
          "base_uri": "https://localhost:8080/",
          "height": 34
        },
        "outputId": "685f11ad-40d6-492a-dda9-4bd69279ebb9"
      },
      "source": [
        "\n",
        "# Evaluate acuracy on test data\n",
        "score = clf.score(X_test,Y_test_OneHot)\n",
        "print(\"Acuracy (on test set) = \", score)"
      ],
      "execution_count": 15,
      "outputs": [
        {
          "output_type": "stream",
          "text": [
            "Acuracy (on test set) =  0.8666666666666667\n"
          ],
          "name": "stdout"
        }
      ]
    },
    {
      "cell_type": "markdown",
      "metadata": {
        "id": "ka2KJfcYxDCZ",
        "colab_type": "text"
      },
      "source": [
        "### Sử dụng GridSearchCV để chọn bộ thông số tốt nhất "
      ]
    },
    {
      "cell_type": "code",
      "metadata": {
        "id": "ZOqOVQiPxDCa",
        "colab_type": "code",
        "colab": {}
      },
      "source": [
        "from sklearn.model_selection import GridSearchCV\n",
        "from sklearn.neural_network import MLPClassifier\n",
        "from sklearn.metrics import classification_report\n",
        "\n",
        "# param_grid = [\n",
        "#   {'hidden_layer_sizes': [(5,), (10,), (15,), (25,)], \n",
        "#    'learning_rate_init':[0.003, 0.01, 0.03, 0.1],\n",
        "#    'alpha': [0.00001, 0.0001, 0.001, 0.01]}\n",
        "#  ]\n",
        "\n",
        "param_grid = [\n",
        "  {'hidden_layer_sizes': [(5,), (10,)], \n",
        "   'learning_rate_init':[0.003, 0.01],\n",
        "   'alpha': [0.00001, 0.0001]}\n",
        " ]\n",
        "\n",
        "\n",
        "clf = GridSearchCV( MLPClassifier(activation='tanh', alpha=1e-07, batch_size=4, beta_1=0.9,\n",
        "   beta_2=0.999, early_stopping=False, epsilon=1e-08,\n",
        "   hidden_layer_sizes=(10,), learning_rate='constant',\n",
        "   learning_rate_init=0.005, max_iter=500, momentum=0.8,\n",
        "   nesterovs_momentum=True, power_t=0.5, random_state=11, shuffle=True,\n",
        "   solver='adam', tol=1e-05, validation_fraction=0.3, verbose=False,\n",
        "   warm_start=False), \n",
        "   param_grid, cv=3, scoring='accuracy')\n",
        "\n"
      ],
      "execution_count": 16,
      "outputs": []
    },
    {
      "cell_type": "code",
      "metadata": {
        "id": "nL4gN5x6xDCb",
        "colab_type": "code",
        "colab": {
          "base_uri": "https://localhost:8080/",
          "height": 122
        },
        "outputId": "40a89c2b-2a4e-4d4b-c38d-1608fb652d07"
      },
      "source": [
        "clf.fit(X_train, Y_train_OneHot)\n",
        "print(\"Best parameters set found on development set:\")\n",
        "\n"
      ],
      "execution_count": 17,
      "outputs": [
        {
          "output_type": "stream",
          "text": [
            "/usr/local/lib/python3.6/dist-packages/sklearn/neural_network/_multilayer_perceptron.py:571: ConvergenceWarning: Stochastic Optimizer: Maximum iterations (500) reached and the optimization hasn't converged yet.\n",
            "  % self.max_iter, ConvergenceWarning)\n",
            "/usr/local/lib/python3.6/dist-packages/sklearn/neural_network/_multilayer_perceptron.py:571: ConvergenceWarning: Stochastic Optimizer: Maximum iterations (500) reached and the optimization hasn't converged yet.\n",
            "  % self.max_iter, ConvergenceWarning)\n"
          ],
          "name": "stderr"
        },
        {
          "output_type": "stream",
          "text": [
            "Best parameters set found on development set:\n"
          ],
          "name": "stdout"
        }
      ]
    },
    {
      "cell_type": "code",
      "metadata": {
        "id": "Nuv_Pt6pxDCi",
        "colab_type": "code",
        "colab": {
          "base_uri": "https://localhost:8080/",
          "height": 34
        },
        "outputId": "7a50b576-a010-422b-e4ab-3ca6ac5f8b59"
      },
      "source": [
        "print(clf.best_params_)\n"
      ],
      "execution_count": 18,
      "outputs": [
        {
          "output_type": "stream",
          "text": [
            "{'alpha': 1e-05, 'hidden_layer_sizes': (5,), 'learning_rate_init': 0.01}\n"
          ],
          "name": "stdout"
        }
      ]
    },
    {
      "cell_type": "code",
      "metadata": {
        "id": "qz6glt1JxDCk",
        "colab_type": "code",
        "colab": {
          "base_uri": "https://localhost:8080/",
          "height": 153
        },
        "outputId": "2cd7a581-19a6-4749-b7ca-6b73429de05a"
      },
      "source": [
        "clf.best_estimator_"
      ],
      "execution_count": 19,
      "outputs": [
        {
          "output_type": "execute_result",
          "data": {
            "text/plain": [
              "MLPClassifier(activation='tanh', alpha=1e-05, batch_size=4, beta_1=0.9,\n",
              "              beta_2=0.999, early_stopping=False, epsilon=1e-08,\n",
              "              hidden_layer_sizes=(5,), learning_rate='constant',\n",
              "              learning_rate_init=0.01, max_fun=15000, max_iter=500,\n",
              "              momentum=0.8, n_iter_no_change=10, nesterovs_momentum=True,\n",
              "              power_t=0.5, random_state=11, shuffle=True, solver='adam',\n",
              "              tol=1e-05, validation_fraction=0.3, verbose=False,\n",
              "              warm_start=False)"
            ]
          },
          "metadata": {
            "tags": []
          },
          "execution_count": 19
        }
      ]
    },
    {
      "cell_type": "code",
      "metadata": {
        "id": "h_1wb_hWxDCo",
        "colab_type": "code",
        "colab": {
          "base_uri": "https://localhost:8080/",
          "height": 34
        },
        "outputId": "b4f7b49f-c55a-43a6-f5f0-ff2bb67fe8a1"
      },
      "source": [
        "clf.best_score_"
      ],
      "execution_count": 20,
      "outputs": [
        {
          "output_type": "execute_result",
          "data": {
            "text/plain": [
              "0.9666666666666667"
            ]
          },
          "metadata": {
            "tags": []
          },
          "execution_count": 20
        }
      ]
    },
    {
      "cell_type": "markdown",
      "metadata": {
        "id": "s9x80LpdxDCu",
        "colab_type": "text"
      },
      "source": [
        "## 2) MLPClassifier cho bộ dữ liệu số"
      ]
    },
    {
      "cell_type": "code",
      "metadata": {
        "id": "RlBbJchIxDCu",
        "colab_type": "code",
        "colab": {
          "base_uri": "https://localhost:8080/",
          "height": 360
        },
        "outputId": "b4dcf3e1-f8a0-4f53-8d6e-a7f19cfabd14"
      },
      "source": [
        "from sklearn.datasets import load_digits\n",
        "from sklearn.model_selection import train_test_split\n",
        "from sklearn.neural_network import MLPClassifier\n",
        "from sklearn.metrics import classification_report\n",
        "\n",
        "digits = load_digits()\n",
        "n_samples = len(digits.images)\n",
        "print(\"Number_of-examples = \", n_samples)\n",
        "\n",
        "import matplotlib.pyplot as plt\n",
        "print(\"\\n Plot of first example\")\n",
        "plt.gray() \n",
        "plt.matshow(digits.images[0]) \n",
        "print(\"CLOSE PLOT WINDOW TO CONTINUE\")\n",
        "plt.ioff()"
      ],
      "execution_count": 21,
      "outputs": [
        {
          "output_type": "stream",
          "text": [
            "Number_of-examples =  1797\n",
            "\n",
            " Plot of first example\n",
            "CLOSE PLOT WINDOW TO CONTINUE\n"
          ],
          "name": "stdout"
        },
        {
          "output_type": "display_data",
          "data": {
            "text/plain": [
              "<Figure size 432x288 with 0 Axes>"
            ]
          },
          "metadata": {
            "tags": []
          }
        },
        {
          "output_type": "display_data",
          "data": {
            "image/png": "[encoded data removed]",
            "text/plain": [
              "<Figure size 288x288 with 1 Axes>"
            ]
          },
          "metadata": {
            "tags": [],
            "needs_background": "light"
          }
        }
      ]
    },
    {
      "cell_type": "code",
      "metadata": {
        "id": "7oEwaE6cxDCx",
        "colab_type": "code",
        "colab": {}
      },
      "source": [
        "\n",
        "# Flatten the images, to turn data in a (samples, feature) matrix:\n",
        "data = digits.images.reshape((n_samples, -1))\n",
        "\n",
        "X = data\n",
        "y = digits.target\n",
        "X_train, X_test, y_train, y_test = train_test_split(X, y, test_size=0.2)"
      ],
      "execution_count": 22,
      "outputs": []
    },
    {
      "cell_type": "code",
      "metadata": {
        "id": "rWS9umTyxDCz",
        "colab_type": "code",
        "colab": {
          "base_uri": "https://localhost:8080/",
          "height": 34
        },
        "outputId": "2b54608c-ca2c-40d7-daad-dacd4f6a6249"
      },
      "source": [
        "X_train.shape"
      ],
      "execution_count": 23,
      "outputs": [
        {
          "output_type": "execute_result",
          "data": {
            "text/plain": [
              "(1437, 64)"
            ]
          },
          "metadata": {
            "tags": []
          },
          "execution_count": 23
        }
      ]
    },
    {
      "cell_type": "code",
      "metadata": {
        "scrolled": true,
        "id": "nYqL_WkyxDC0",
        "colab_type": "code",
        "colab": {
          "base_uri": "https://localhost:8080/",
          "height": 34
        },
        "outputId": "f3dbb587-cce2-4733-a053-2f8419a897e2"
      },
      "source": [
        "y_train.shape"
      ],
      "execution_count": 24,
      "outputs": [
        {
          "output_type": "execute_result",
          "data": {
            "text/plain": [
              "(1437,)"
            ]
          },
          "metadata": {
            "tags": []
          },
          "execution_count": 24
        }
      ]
    },
    {
      "cell_type": "code",
      "metadata": {
        "id": "9V4n8dM3xDC1",
        "colab_type": "code",
        "colab": {}
      },
      "source": [
        "clf = MLPClassifier(hidden_layer_sizes=(30, ), activation='tanh', solver='sgd', \n",
        "                    alpha=0.00001, batch_size=4, learning_rate='constant', learning_rate_init=0.01, \n",
        "                    power_t=0.5, max_iter=500, shuffle=True, random_state=11, tol=0.00001, \n",
        "                    verbose=True, warm_start=False, momentum=0.8, nesterovs_momentum=True, \n",
        "                    early_stopping=True, validation_fraction=0.1, \n",
        "                    beta_1=0.9, beta_2=0.999, epsilon=1e-08)"
      ],
      "execution_count": 25,
      "outputs": []
    },
    {
      "cell_type": "code",
      "metadata": {
        "id": "Gvlp1L3MxDC3",
        "colab_type": "code",
        "colab": {
          "base_uri": "https://localhost:8080/",
          "height": 153
        },
        "outputId": "b353156b-2a47-4ed4-d69a-d3527bc2b8a9"
      },
      "source": [
        "clf"
      ],
      "execution_count": 26,
      "outputs": [
        {
          "output_type": "execute_result",
          "data": {
            "text/plain": [
              "MLPClassifier(activation='tanh', alpha=1e-05, batch_size=4, beta_1=0.9,\n",
              "              beta_2=0.999, early_stopping=True, epsilon=1e-08,\n",
              "              hidden_layer_sizes=(30,), learning_rate='constant',\n",
              "              learning_rate_init=0.01, max_fun=15000, max_iter=500,\n",
              "              momentum=0.8, n_iter_no_change=10, nesterovs_momentum=True,\n",
              "              power_t=0.5, random_state=11, shuffle=True, solver='sgd',\n",
              "              tol=1e-05, validation_fraction=0.1, verbose=True,\n",
              "              warm_start=False)"
            ]
          },
          "metadata": {
            "tags": []
          },
          "execution_count": 26
        }
      ]
    },
    {
      "cell_type": "code",
      "metadata": {
        "scrolled": true,
        "id": "0oPbDbymxDC4",
        "colab_type": "code",
        "colab": {
          "base_uri": "https://localhost:8080/",
          "height": 1000
        },
        "outputId": "6797b106-04f5-49bc-ab73-1c7ae14a8cc2"
      },
      "source": [
        "# Train the MLP classifier on training dataset\n",
        "clf.fit(X_train, y_train)\n"
      ],
      "execution_count": 27,
      "outputs": [
        {
          "output_type": "stream",
          "text": [
            "Iteration 1, loss = 1.22751675\n",
            "Validation score: 0.680556\n",
            "Iteration 2, loss = 0.69716883\n",
            "Validation score: 0.770833\n",
            "Iteration 3, loss = 0.56765860\n",
            "Validation score: 0.833333\n",
            "Iteration 4, loss = 0.42692461\n",
            "Validation score: 0.854167\n",
            "Iteration 5, loss = 0.44407381\n",
            "Validation score: 0.847222\n",
            "Iteration 6, loss = 0.47804205\n",
            "Validation score: 0.840278\n",
            "Iteration 7, loss = 0.42595794\n",
            "Validation score: 0.854167\n",
            "Iteration 8, loss = 0.30959920\n",
            "Validation score: 0.854167\n",
            "Iteration 9, loss = 0.39918731\n",
            "Validation score: 0.819444\n",
            "Iteration 10, loss = 0.48297805\n",
            "Validation score: 0.798611\n",
            "Iteration 11, loss = 0.36982993\n",
            "Validation score: 0.819444\n",
            "Iteration 12, loss = 0.43417134\n",
            "Validation score: 0.819444\n",
            "Iteration 13, loss = 0.42745073\n",
            "Validation score: 0.881944\n",
            "Iteration 14, loss = 0.37445410\n",
            "Validation score: 0.861111\n",
            "Iteration 15, loss = 0.25827553\n",
            "Validation score: 0.909722\n",
            "Iteration 16, loss = 0.35776376\n",
            "Validation score: 0.847222\n",
            "Iteration 17, loss = 0.34432047\n",
            "Validation score: 0.875000\n",
            "Iteration 18, loss = 0.30227433\n",
            "Validation score: 0.909722\n",
            "Iteration 19, loss = 0.27105658\n",
            "Validation score: 0.895833\n",
            "Iteration 20, loss = 0.24035581\n",
            "Validation score: 0.923611\n",
            "Iteration 21, loss = 0.22839910\n",
            "Validation score: 0.951389\n",
            "Iteration 22, loss = 0.28212786\n",
            "Validation score: 0.909722\n",
            "Iteration 23, loss = 0.40892736\n",
            "Validation score: 0.888889\n",
            "Iteration 24, loss = 0.36517233\n",
            "Validation score: 0.875000\n",
            "Iteration 25, loss = 0.36995678\n",
            "Validation score: 0.868056\n",
            "Iteration 26, loss = 0.40079053\n",
            "Validation score: 0.888889\n",
            "Iteration 27, loss = 0.31678199\n",
            "Validation score: 0.895833\n",
            "Iteration 28, loss = 0.28135075\n",
            "Validation score: 0.833333\n",
            "Iteration 29, loss = 0.34603184\n",
            "Validation score: 0.930556\n",
            "Iteration 30, loss = 0.19045405\n",
            "Validation score: 0.923611\n",
            "Iteration 31, loss = 0.22520613\n",
            "Validation score: 0.895833\n",
            "Iteration 32, loss = 0.26650403\n",
            "Validation score: 0.895833\n",
            "Validation score did not improve more than tol=0.000010 for 10 consecutive epochs. Stopping.\n"
          ],
          "name": "stdout"
        },
        {
          "output_type": "execute_result",
          "data": {
            "text/plain": [
              "MLPClassifier(activation='tanh', alpha=1e-05, batch_size=4, beta_1=0.9,\n",
              "              beta_2=0.999, early_stopping=True, epsilon=1e-08,\n",
              "              hidden_layer_sizes=(30,), learning_rate='constant',\n",
              "              learning_rate_init=0.01, max_fun=15000, max_iter=500,\n",
              "              momentum=0.8, n_iter_no_change=10, nesterovs_momentum=True,\n",
              "              power_t=0.5, random_state=11, shuffle=True, solver='sgd',\n",
              "              tol=1e-05, validation_fraction=0.1, verbose=True,\n",
              "              warm_start=False)"
            ]
          },
          "metadata": {
            "tags": []
          },
          "execution_count": 27
        }
      ]
    },
    {
      "cell_type": "code",
      "metadata": {
        "id": "McgK0rttxDC5",
        "colab_type": "code",
        "colab": {
          "base_uri": "https://localhost:8080/",
          "height": 34
        },
        "outputId": "d2693bee-a5c8-455a-977e-843bf932bb48"
      },
      "source": [
        "\n",
        "score = clf.score(X_train,y_train)\n",
        "print(\"Acuracy (on train set) = \", score)"
      ],
      "execution_count": 28,
      "outputs": [
        {
          "output_type": "stream",
          "text": [
            "Acuracy (on train set) =  0.9491997216423104\n"
          ],
          "name": "stdout"
        }
      ]
    },
    {
      "cell_type": "code",
      "metadata": {
        "id": "lqdUzUMdxDC7",
        "colab_type": "code",
        "colab": {
          "base_uri": "https://localhost:8080/",
          "height": 34
        },
        "outputId": "af616e99-aa8f-4847-a8a0-9997593c2fff"
      },
      "source": [
        "\n",
        "score = clf.score(X_test,y_test)\n",
        "print(\"Acuracy (on test set) = \", score)\n"
      ],
      "execution_count": 29,
      "outputs": [
        {
          "output_type": "stream",
          "text": [
            "Acuracy (on test set) =  0.9361111111111111\n"
          ],
          "name": "stdout"
        }
      ]
    },
    {
      "cell_type": "markdown",
      "metadata": {
        "id": "v0ORNClPxDC8",
        "colab_type": "text"
      },
      "source": [
        "### Thay đổi số layers, số neurons trên mỗi layers:"
      ]
    },
    {
      "cell_type": "code",
      "metadata": {
        "id": "kPsiGV4uxDC9",
        "colab_type": "code",
        "colab": {}
      },
      "source": [
        "clf = MLPClassifier(hidden_layer_sizes=(30, 20, 15 ), activation='tanh', solver='sgd', \n",
        "                    alpha=0.00001, batch_size=4, learning_rate='constant', learning_rate_init=0.01, \n",
        "                    power_t=0.5, max_iter=500, shuffle=True, random_state=11, tol=0.00001, \n",
        "                    verbose=True, warm_start=False, momentum=0.8, nesterovs_momentum=True, \n",
        "                    early_stopping=True, validation_fraction=0.1, \n",
        "                    beta_1=0.9, beta_2=0.999, epsilon=1e-08)"
      ],
      "execution_count": 30,
      "outputs": []
    },
    {
      "cell_type": "code",
      "metadata": {
        "scrolled": true,
        "id": "kvk6kpDYxDC-",
        "colab_type": "code",
        "colab": {
          "base_uri": "https://localhost:8080/",
          "height": 612
        },
        "outputId": "aec65a13-370a-43da-f73b-22231c74e2f4"
      },
      "source": [
        "# Train the MLP classifier on training dataset\n",
        "clf.fit(X_train, y_train)\n"
      ],
      "execution_count": 31,
      "outputs": [
        {
          "output_type": "stream",
          "text": [
            "Iteration 1, loss = 1.39438684\n",
            "Validation score: 0.583333\n",
            "Iteration 2, loss = 0.98594770\n",
            "Validation score: 0.798611\n",
            "Iteration 3, loss = 0.84027360\n",
            "Validation score: 0.659722\n",
            "Iteration 4, loss = 1.05289540\n",
            "Validation score: 0.597222\n",
            "Iteration 5, loss = 1.13078141\n",
            "Validation score: 0.590278\n",
            "Iteration 6, loss = 1.17084743\n",
            "Validation score: 0.409722\n",
            "Iteration 7, loss = 1.01716487\n",
            "Validation score: 0.618056\n",
            "Iteration 8, loss = 0.97865100\n",
            "Validation score: 0.701389\n",
            "Iteration 9, loss = 1.02532295\n",
            "Validation score: 0.631944\n",
            "Iteration 10, loss = 1.06781421\n",
            "Validation score: 0.500000\n",
            "Iteration 11, loss = 0.96507121\n",
            "Validation score: 0.729167\n",
            "Iteration 12, loss = 0.75089241\n",
            "Validation score: 0.791667\n",
            "Iteration 13, loss = 0.82165641\n",
            "Validation score: 0.638889\n",
            "Validation score did not improve more than tol=0.000010 for 10 consecutive epochs. Stopping.\n"
          ],
          "name": "stdout"
        },
        {
          "output_type": "execute_result",
          "data": {
            "text/plain": [
              "MLPClassifier(activation='tanh', alpha=1e-05, batch_size=4, beta_1=0.9,\n",
              "              beta_2=0.999, early_stopping=True, epsilon=1e-08,\n",
              "              hidden_layer_sizes=(30, 20, 15), learning_rate='constant',\n",
              "              learning_rate_init=0.01, max_fun=15000, max_iter=500,\n",
              "              momentum=0.8, n_iter_no_change=10, nesterovs_momentum=True,\n",
              "              power_t=0.5, random_state=11, shuffle=True, solver='sgd',\n",
              "              tol=1e-05, validation_fraction=0.1, verbose=True,\n",
              "              warm_start=False)"
            ]
          },
          "metadata": {
            "tags": []
          },
          "execution_count": 31
        }
      ]
    },
    {
      "cell_type": "code",
      "metadata": {
        "id": "pmm6lsKfxDC_",
        "colab_type": "code",
        "colab": {
          "base_uri": "https://localhost:8080/",
          "height": 34
        },
        "outputId": "af02e0d8-99e1-4089-bc34-f8ffe989e32f"
      },
      "source": [
        "\n",
        "score = clf.score(X_train,y_train)\n",
        "print(\"Acuracy (on train set) = \", score)"
      ],
      "execution_count": 32,
      "outputs": [
        {
          "output_type": "stream",
          "text": [
            "Acuracy (on train set) =  0.8190675017397355\n"
          ],
          "name": "stdout"
        }
      ]
    },
    {
      "cell_type": "code",
      "metadata": {
        "id": "pnbne3r8xDDB",
        "colab_type": "code",
        "colab": {
          "base_uri": "https://localhost:8080/",
          "height": 34
        },
        "outputId": "c609cb8d-47bb-4a0f-ad6f-7154daae7f5d"
      },
      "source": [
        "\n",
        "score = clf.score(X_test,y_test)\n",
        "print(\"Acuracy (on test set) = \", score)\n"
      ],
      "execution_count": 33,
      "outputs": [
        {
          "output_type": "stream",
          "text": [
            "Acuracy (on test set) =  0.8166666666666667\n"
          ],
          "name": "stdout"
        }
      ]
    },
    {
      "cell_type": "markdown",
      "metadata": {
        "id": "9-TzfjxjxDDC",
        "colab_type": "text"
      },
      "source": [
        "- Nhận xét: việc chọn số Layers và số neurons trên mỗi Layers phải dựa vào từng bài toán  để có thể đạt được độ chính xác cao nhất"
      ]
    },
    {
      "cell_type": "code",
      "metadata": {
        "id": "fL14gTcOxDDD",
        "colab_type": "code",
        "colab": {}
      },
      "source": [
        ""
      ],
      "execution_count": 33,
      "outputs": []
    },
    {
      "cell_type": "code",
      "metadata": {
        "id": "KFUOgi7TxDDF",
        "colab_type": "code",
        "colab": {}
      },
      "source": [
        ""
      ],
      "execution_count": 33,
      "outputs": []
    }
  ]
}